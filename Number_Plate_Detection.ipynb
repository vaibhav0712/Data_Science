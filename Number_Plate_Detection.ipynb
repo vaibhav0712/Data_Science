{
 "cells": [
  {
   "cell_type": "code",
   "execution_count": 30,
   "metadata": {},
   "outputs": [],
   "source": [
    "import os\n",
    "import shutil"
   ]
  },
  {
   "cell_type": "code",
   "execution_count": 31,
   "metadata": {},
   "outputs": [
    {
     "data": {
      "text/plain": [
       "['google_images', 'State-wise_OLX', 'video_images']"
      ]
     },
     "execution_count": 31,
     "metadata": {},
     "output_type": "execute_result"
    }
   ],
   "source": [
    "dataset_dir = '../datasets/archive/'  # path to main dataset folder\n",
    "output_dir = '../datasets/archive/merged/' # path where we want to move images\n",
    "os.listdir(dataset_dir)"
   ]
  },
  {
   "cell_type": "code",
   "execution_count": 32,
   "metadata": {},
   "outputs": [],
   "source": [
    "def moveImages(target,subdir):\n",
    "    for subdir in os.listdir(target):\n",
    "        subdir_path = os.path.join(target, subdir)\n",
    "\n",
    "        # if subdir exist inside target dir \n",
    "        if os.path.isdir(subdir_path) and subdir:\n",
    "            for file in os.listdir(subdir_path):\n",
    "                file_path = os.path.join(subdir_path,file)\n",
    "                if os.path.isfile(file_path):\n",
    "                    os.makedirs(output_dir, exist_ok=True)        \n",
    "                    shutil.copy(file_path,output_dir)\n",
    "        # if not directly copy file's\n",
    "        else:\n",
    "            if os.path.isfile(subdir_path):\n",
    "                os.makedirs(output_dir, exist_ok=True)        \n",
    "                shutil.copy(subdir_path,output_dir)            \n",
    "\n",
    "moveImages(os.path.join(dataset_dir,'State-wise_OLX'),True)\n",
    "moveImages(os.path.join(dataset_dir,'google_images'),False)\n",
    "moveImages(os.path.join(dataset_dir,'video_images'),False)"
   ]
  }
 ],
 "metadata": {
  "kernelspec": {
   "display_name": "Python 3",
   "language": "python",
   "name": "python3"
  },
  "language_info": {
   "codemirror_mode": {
    "name": "ipython",
    "version": 3
   },
   "file_extension": ".py",
   "mimetype": "text/x-python",
   "name": "python",
   "nbconvert_exporter": "python",
   "pygments_lexer": "ipython3",
   "version": "3.9.17"
  }
 },
 "nbformat": 4,
 "nbformat_minor": 2
}
