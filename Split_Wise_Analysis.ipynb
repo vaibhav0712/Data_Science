{
 "cells": [
  {
   "cell_type": "code",
   "execution_count": 108,
   "metadata": {},
   "outputs": [],
   "source": [
    "import pandas as pd\n",
    "import numpy as np\n",
    "import matplotlib.pyplot as plt\n",
    "import seaborn as sns"
   ]
  },
  {
   "cell_type": "code",
   "execution_count": 109,
   "metadata": {},
   "outputs": [
    {
     "data": {
      "text/html": [
       "<div>\n",
       "<style scoped>\n",
       "    .dataframe tbody tr th:only-of-type {\n",
       "        vertical-align: middle;\n",
       "    }\n",
       "\n",
       "    .dataframe tbody tr th {\n",
       "        vertical-align: top;\n",
       "    }\n",
       "\n",
       "    .dataframe thead th {\n",
       "        text-align: right;\n",
       "    }\n",
       "</style>\n",
       "<table border=\"1\" class=\"dataframe\">\n",
       "  <thead>\n",
       "    <tr style=\"text-align: right;\">\n",
       "      <th></th>\n",
       "      <th>Date</th>\n",
       "      <th>Description</th>\n",
       "      <th>Category</th>\n",
       "      <th>Cost</th>\n",
       "      <th>Currency</th>\n",
       "      <th>Het Varasada</th>\n",
       "      <th>Krish Chaniyara</th>\n",
       "      <th>VAIBHAV SANEPARA</th>\n",
       "      <th>21BECE3O279 Sarang Santoki</th>\n",
       "      <th>Hst Sagar</th>\n",
       "      <th>0xNishchit (removed)</th>\n",
       "      <th>deep patel (removed)</th>\n",
       "    </tr>\n",
       "  </thead>\n",
       "  <tbody>\n",
       "    <tr>\n",
       "      <th>0</th>\n",
       "      <td>2023-03-13</td>\n",
       "      <td>Lauch snacks coke+ nescafe</td>\n",
       "      <td>Groceries</td>\n",
       "      <td>130.00</td>\n",
       "      <td>INR</td>\n",
       "      <td>0.0</td>\n",
       "      <td>0.0</td>\n",
       "      <td>-45.0</td>\n",
       "      <td>0.0</td>\n",
       "      <td>0.0</td>\n",
       "      <td>85.0</td>\n",
       "      <td>-40.0</td>\n",
       "    </tr>\n",
       "    <tr>\n",
       "      <th>1</th>\n",
       "      <td>2023-03-13</td>\n",
       "      <td>Butterscotch Cone</td>\n",
       "      <td>General</td>\n",
       "      <td>90.00</td>\n",
       "      <td>INR</td>\n",
       "      <td>0.0</td>\n",
       "      <td>-30.0</td>\n",
       "      <td>-30.0</td>\n",
       "      <td>0.0</td>\n",
       "      <td>0.0</td>\n",
       "      <td>60.0</td>\n",
       "      <td>0.0</td>\n",
       "    </tr>\n",
       "    <tr>\n",
       "      <th>2</th>\n",
       "      <td>2023-03-15</td>\n",
       "      <td>Nasto</td>\n",
       "      <td>General</td>\n",
       "      <td>165.00</td>\n",
       "      <td>INR</td>\n",
       "      <td>0.0</td>\n",
       "      <td>-20.0</td>\n",
       "      <td>-20.0</td>\n",
       "      <td>0.0</td>\n",
       "      <td>0.0</td>\n",
       "      <td>-45.0</td>\n",
       "      <td>85.0</td>\n",
       "    </tr>\n",
       "    <tr>\n",
       "      <th>3</th>\n",
       "      <td>2023-03-15</td>\n",
       "      <td>Bus g to b</td>\n",
       "      <td>Bus/train</td>\n",
       "      <td>490.00</td>\n",
       "      <td>INR</td>\n",
       "      <td>0.0</td>\n",
       "      <td>-122.5</td>\n",
       "      <td>367.5</td>\n",
       "      <td>0.0</td>\n",
       "      <td>0.0</td>\n",
       "      <td>-122.5</td>\n",
       "      <td>-122.5</td>\n",
       "    </tr>\n",
       "    <tr>\n",
       "      <th>4</th>\n",
       "      <td>2023-03-15</td>\n",
       "      <td>Citybus</td>\n",
       "      <td>General</td>\n",
       "      <td>80.00</td>\n",
       "      <td>INR</td>\n",
       "      <td>0.0</td>\n",
       "      <td>60.0</td>\n",
       "      <td>-20.0</td>\n",
       "      <td>0.0</td>\n",
       "      <td>0.0</td>\n",
       "      <td>-20.0</td>\n",
       "      <td>-20.0</td>\n",
       "    </tr>\n",
       "  </tbody>\n",
       "</table>\n",
       "</div>"
      ],
      "text/plain": [
       "         Date                 Description   Category    Cost Currency  \\\n",
       "0  2023-03-13  Lauch snacks coke+ nescafe  Groceries  130.00      INR   \n",
       "1  2023-03-13           Butterscotch Cone    General   90.00      INR   \n",
       "2  2023-03-15                       Nasto    General  165.00      INR   \n",
       "3  2023-03-15                  Bus g to b  Bus/train  490.00      INR   \n",
       "4  2023-03-15                     Citybus    General   80.00      INR   \n",
       "\n",
       "   Het Varasada  Krish Chaniyara  VAIBHAV SANEPARA  \\\n",
       "0           0.0              0.0             -45.0   \n",
       "1           0.0            -30.0             -30.0   \n",
       "2           0.0            -20.0             -20.0   \n",
       "3           0.0           -122.5             367.5   \n",
       "4           0.0             60.0             -20.0   \n",
       "\n",
       "   21BECE3O279 Sarang Santoki  Hst Sagar  0xNishchit (removed)  \\\n",
       "0                         0.0        0.0                  85.0   \n",
       "1                         0.0        0.0                  60.0   \n",
       "2                         0.0        0.0                 -45.0   \n",
       "3                         0.0        0.0                -122.5   \n",
       "4                         0.0        0.0                 -20.0   \n",
       "\n",
       "   deep patel (removed)  \n",
       "0                 -40.0  \n",
       "1                   0.0  \n",
       "2                  85.0  \n",
       "3                -122.5  \n",
       "4                 -20.0  "
      ]
     },
     "execution_count": 109,
     "metadata": {},
     "output_type": "execute_result"
    }
   ],
   "source": [
    "df = pd.read_csv('../datasets/Split_Wise.csv')\n",
    "df.head()"
   ]
  },
  {
   "cell_type": "code",
   "execution_count": null,
   "metadata": {},
   "outputs": [],
   "source": [
    "df['Date'] = pd.to_datetime(df['Date'])\n",
    "df['year'] = df['Date'].dt.year\n",
    "df['month'] = df['Date'].dt.month_name()"
   ]
  },
  {
   "cell_type": "code",
   "execution_count": 110,
   "metadata": {},
   "outputs": [
    {
     "name": "stdout",
     "output_type": "stream",
     "text": [
      "<class 'pandas.core.frame.DataFrame'>\n",
      "RangeIndex: 767 entries, 0 to 766\n",
      "Data columns (total 12 columns):\n",
      " #   Column                      Non-Null Count  Dtype  \n",
      "---  ------                      --------------  -----  \n",
      " 0   Date                        767 non-null    object \n",
      " 1   Description                 767 non-null    object \n",
      " 2   Category                    767 non-null    object \n",
      " 3   Cost                        767 non-null    object \n",
      " 4   Currency                    767 non-null    object \n",
      " 5   Het Varasada                767 non-null    float64\n",
      " 6   Krish Chaniyara             767 non-null    float64\n",
      " 7   VAIBHAV SANEPARA            767 non-null    float64\n",
      " 8   21BECE3O279 Sarang Santoki  767 non-null    float64\n",
      " 9   Hst Sagar                   767 non-null    float64\n",
      " 10  0xNishchit (removed)        767 non-null    float64\n",
      " 11  deep patel (removed)        767 non-null    float64\n",
      "dtypes: float64(7), object(5)\n",
      "memory usage: 72.0+ KB\n"
     ]
    }
   ],
   "source": [
    "df.info()"
   ]
  },
  {
   "cell_type": "code",
   "execution_count": 123,
   "metadata": {},
   "outputs": [
    {
     "data": {
      "text/plain": [
       "Index(['Het Varasada', 'Krish Chaniyara', 'VAIBHAV SANEPARA',\n",
       "       '21BECE3O279 Sarang Santoki', 'Hst Sagar', '0xNishchit (removed)',\n",
       "       'deep patel (removed)'],\n",
       "      dtype='object')"
      ]
     },
     "execution_count": 123,
     "metadata": {},
     "output_type": "execute_result"
    }
   ],
   "source": [
    "user_names = df.select_dtypes(include=['float']).columns\n",
    "user_names"
   ]
  },
  {
   "cell_type": "code",
   "execution_count": 175,
   "metadata": {},
   "outputs": [
    {
     "name": "stdout",
     "output_type": "stream",
     "text": [
      "String is empty\n"
     ]
    },
    {
     "data": {
      "text/plain": [
       "19802.48"
      ]
     },
     "execution_count": 175,
     "metadata": {},
     "output_type": "execute_result"
    }
   ],
   "source": [
    "def total_spend(user_names):\n",
    "    user_total = 0\n",
    "\n",
    "    # net value spend by user \n",
    "    user_net_spend_df = df[df[user_names] < 0]\n",
    "    user_net_spend_value = abs(user_net_spend_df[user_names].sum())\n",
    "\n",
    "    # payment done by user\n",
    "    user_pay_df = df[df[user_names] > 0]\n",
    "    user_pay_value = user_pay_df[user_names].sum()\n",
    "     \n",
    "    # user share on payment done by him \n",
    "    x = 0\n",
    "    for i in user_pay_df['Cost']:\n",
    "        if i:\n",
    "            try:\n",
    "                float_value = float(i)\n",
    "                x = x+float_value\n",
    "                # print(float_value)\n",
    "            except ValueError:\n",
    "                print(\"Invalid float value\")\n",
    "    else:\n",
    "        print(\"String is empty\")\n",
    "\n",
    "    # user spend with pay & net spend \n",
    "    user_total = (x-user_pay_value) + user_net_spend_value\n",
    "\n",
    "    return user_total\n",
    "\n",
    "total_spend('VAIBHAV SANEPARA')"
   ]
  },
  {
   "cell_type": "code",
   "execution_count": 176,
   "metadata": {},
   "outputs": [
    {
     "name": "stdout",
     "output_type": "stream",
     "text": [
      "Invalid float value\n",
      "String is empty\n",
      "String is empty\n",
      "String is empty\n",
      "String is empty\n",
      "Invalid float value\n",
      "String is empty\n"
     ]
    },
    {
     "data": {
      "text/plain": [
       "[22915.34, 11298.32, 19802.48, 11874.76, 21179.229999999996]"
      ]
     },
     "execution_count": 176,
     "metadata": {},
     "output_type": "execute_result"
    }
   ],
   "source": [
    "user_spends  = []\n",
    "for i in user_names[:5]:\n",
    "    user_spends.append(total_spend(i))\n",
    "user_spends"
   ]
  },
  {
   "cell_type": "code",
   "execution_count": 172,
   "metadata": {},
   "outputs": [
    {
     "data": {
      "image/png": "[encoded data removed]",
      "text/plain": [
       "<Figure size 640x480 with 1 Axes>"
      ]
     },
     "metadata": {},
     "output_type": "display_data"
    }
   ],
   "source": [
    "df_re = pd.DataFrame({'user':user_names[:5],'spend':user_spends})\n",
    "plt.style.use('ggplot')\n",
    "bars = plt.bar(df_re['user'],df_re['spend'])\n",
    "plt.xticks(rotation=70)\n",
    "for bar in bars:\n",
    "    height = bar.get_height()\n",
    "    plt.annotate(f'{round(height,2)}', xy=(bar.get_x() + bar.get_width() / 2, height), xytext=(0, 3),\n",
    "    textcoords=\"offset points\", ha='center', va='bottom')\n",
    "plt.show()"
   ]
  }
 ],
 "metadata": {
  "kernelspec": {
   "display_name": "Python 3",
   "language": "python",
   "name": "python3"
  },
  "language_info": {
   "codemirror_mode": {
    "name": "ipython",
    "version": 3
   },
   "file_extension": ".py",
   "mimetype": "text/x-python",
   "name": "python",
   "nbconvert_exporter": "python",
   "pygments_lexer": "ipython3",
   "version": "3.9.17"
  },
  "orig_nbformat": 4
 },
 "nbformat": 4,
 "nbformat_minor": 2
}
