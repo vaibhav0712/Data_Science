{
 "cells": [
  {
   "cell_type": "code",
   "execution_count": 467,
   "metadata": {},
   "outputs": [],
   "source": [
    "import tensorflow as tf\n",
    "import pandas as pd\n",
    "import numpy as np\n",
    "import matplotlib.pyplot as plt\n",
    "from keras.preprocessing.image import ImageDataGenerator"
   ]
  },
  {
   "cell_type": "markdown",
   "metadata": {},
   "source": [
    "#### Loading data"
   ]
  },
  {
   "cell_type": "code",
   "execution_count": 468,
   "metadata": {},
   "outputs": [
    {
     "name": "stdout",
     "output_type": "stream",
     "text": [
      "Found 6499 files belonging to 75 classes.\n"
     ]
    }
   ],
   "source": [
    "train_ds = tf.keras.utils.image_dataset_from_directory(directory='butterfly/train',image_size=(64, 64),batch_size=100)"
   ]
  },
  {
   "cell_type": "code",
   "execution_count": 469,
   "metadata": {},
   "outputs": [],
   "source": [
    "train_ds = train_ds.map(lambda x,y:(x/255,y))"
   ]
  },
  {
   "cell_type": "code",
   "execution_count": 470,
   "metadata": {},
   "outputs": [
    {
     "data": {
      "text/plain": [
       "(array([[[[0.5764706 , 0.8303922 , 0.5294118 ],\n",
       "          [0.5830882 , 0.8497549 , 0.5536765 ],\n",
       "          [0.53112745, 0.8017157 , 0.54093134],\n",
       "          ...,\n",
       "          [0.92696077, 0.93088233, 0.9465686 ],\n",
       "          [0.91568625, 0.9166667 , 0.94509804],\n",
       "          [0.90857846, 0.9026961 , 0.94436276]],\n",
       " \n",
       "         [[0.6       , 0.8539216 , 0.5529412 ],\n",
       "          [0.5737745 , 0.84044117, 0.53995097],\n",
       "          [0.51985294, 0.79044116, 0.5296569 ],\n",
       "          ...,\n",
       "          [0.9012255 , 0.9051471 , 0.9129902 ],\n",
       "          [0.88529414, 0.8892157 , 0.9004902 ],\n",
       "          [0.8637255 , 0.8617647 , 0.8843137 ]],\n",
       " \n",
       "         [[0.6066176 , 0.8605392 , 0.5534314 ],\n",
       "          [0.5752451 , 0.84362745, 0.5365196 ],\n",
       "          [0.5328431 , 0.80735296, 0.53137255],\n",
       "          ...,\n",
       "          [0.8568627 , 0.86470586, 0.84656864],\n",
       "          [0.8382353 , 0.8382353 , 0.8303922 ],\n",
       "          [0.8401961 , 0.83431375, 0.84313726]],\n",
       " \n",
       "         ...,\n",
       " \n",
       "         [[0.7360294 , 0.9193627 , 0.5357843 ],\n",
       "          [0.6389706 , 0.8455882 , 0.48357844],\n",
       "          [0.56985295, 0.76593137, 0.48308823],\n",
       "          ...,\n",
       "          [0.66838235, 0.66838235, 0.6605392 ],\n",
       "          [0.6066176 , 0.60343134, 0.58235294],\n",
       "          [0.54313725, 0.5365196 , 0.49215686]],\n",
       " \n",
       "         [[0.76348037, 0.9370098 , 0.5602941 ],\n",
       "          [0.68897057, 0.89436275, 0.5330882 ],\n",
       "          [0.55539215, 0.75539213, 0.45343137],\n",
       "          ...,\n",
       "          [0.61789215, 0.62647057, 0.6068627 ],\n",
       "          [0.5708333 , 0.57867646, 0.53357846],\n",
       "          [0.4970588 , 0.5009804 , 0.44411764]],\n",
       " \n",
       "         [[0.7882353 , 0.95098037, 0.58137256],\n",
       "          [0.7235294 , 0.92745095, 0.56764704],\n",
       "          [0.5203431 , 0.7242647 , 0.4004902 ],\n",
       "          ...,\n",
       "          [0.59681374, 0.60759807, 0.58210784],\n",
       "          [0.52156866, 0.5294118 , 0.47745097],\n",
       "          [0.45      , 0.4598039 , 0.38627452]]],\n",
       " \n",
       " \n",
       "        [[[0.47892156, 0.49632353, 0.21176471],\n",
       "          [0.5468137 , 0.60637254, 0.2634804 ],\n",
       "          [0.6223039 , 0.6664216 , 0.39166668],\n",
       "          ...,\n",
       "          [0.35735294, 0.44754902, 0.16519608],\n",
       "          [0.36691177, 0.45710784, 0.1747549 ],\n",
       "          [0.37696078, 0.4632353 , 0.18088235]],\n",
       " \n",
       "         [[0.5901961 , 0.6122549 , 0.32328433],\n",
       "          [0.62990195, 0.6375    , 0.35245097],\n",
       "          [0.53431374, 0.58480394, 0.24705882],\n",
       "          ...,\n",
       "          [0.35392156, 0.44411764, 0.16960785],\n",
       "          [0.36960784, 0.4598039 , 0.18529412],\n",
       "          [0.37696078, 0.4612745 , 0.18970588]],\n",
       " \n",
       "         [[0.6161765 , 0.6127451 , 0.39264706],\n",
       "          [0.54632354, 0.5144608 , 0.26911765],\n",
       "          [0.44117647, 0.47671568, 0.19411765],\n",
       "          ...,\n",
       "          [0.36666667, 0.45294118, 0.17058824],\n",
       "          [0.3625    , 0.45269608, 0.17034313],\n",
       "          [0.3632353 , 0.45343137, 0.17107843]],\n",
       " \n",
       "         ...,\n",
       " \n",
       "         [[0.3372549 , 0.42745098, 0.16078432],\n",
       "          [0.3480392 , 0.43823528, 0.17156863],\n",
       "          [0.3379902 , 0.42818627, 0.15367647],\n",
       "          ...,\n",
       "          [0.34534314, 0.4512255 , 0.13357843],\n",
       "          [0.34289217, 0.44877452, 0.13112745],\n",
       "          [0.35196078, 0.45784312, 0.14019608]],\n",
       " \n",
       "         [[0.34264705, 0.43284315, 0.15833333],\n",
       "          [0.34264705, 0.43284315, 0.15833333],\n",
       "          [0.34068626, 0.43088236, 0.15637255],\n",
       "          ...,\n",
       "          [0.35686275, 0.46666667, 0.13725491],\n",
       "          [0.3529412 , 0.4627451 , 0.13333334],\n",
       "          [0.36593136, 0.4659314 , 0.14828432]],\n",
       " \n",
       "         [[0.3392157 , 0.42941177, 0.15490197],\n",
       "          [0.34338236, 0.43357843, 0.15906863],\n",
       "          [0.34436274, 0.4345588 , 0.15416667],\n",
       "          ...,\n",
       "          [0.36053923, 0.47034314, 0.14093137],\n",
       "          [0.3737745 , 0.4747549 , 0.14828432],\n",
       "          [0.3762255 , 0.4742647 , 0.15661764]]],\n",
       " \n",
       " \n",
       "        [[[0.55784315, 0.53333336, 0.4357843 ],\n",
       "          [0.45294118, 0.4137255 , 0.30784315],\n",
       "          [0.6009804 , 0.5468137 , 0.44093138],\n",
       "          ...,\n",
       "          [0.10955882, 0.10955882, 0.07818627],\n",
       "          [0.09901961, 0.09901961, 0.06764706],\n",
       "          [0.10661764, 0.10269608, 0.08308823]],\n",
       " \n",
       "         [[0.5995098 , 0.54583335, 0.4598039 ],\n",
       "          [0.45882353, 0.42843136, 0.31960785],\n",
       "          [0.8497549 , 0.8125    , 0.6997549 ],\n",
       "          ...,\n",
       "          [0.0997549 , 0.0997549 , 0.06838235],\n",
       "          [0.09901961, 0.09901961, 0.06764706],\n",
       "          [0.10196079, 0.09803922, 0.07843138]],\n",
       " \n",
       "         [[0.53357846, 0.49264705, 0.40563726],\n",
       "          [0.65539217, 0.6002451 , 0.5026961 ],\n",
       "          [0.7593137 , 0.69558823, 0.59362745],\n",
       "          ...,\n",
       "          [0.10196079, 0.10196079, 0.07058824],\n",
       "          [0.10098039, 0.09705883, 0.07745098],\n",
       "          [0.10416666, 0.1002451 , 0.08063725]],\n",
       " \n",
       "         ...,\n",
       " \n",
       "         [[0.29852942, 0.25441176, 0.18578431],\n",
       "          [0.32352942, 0.2764706 , 0.21519607],\n",
       "          [0.26519608, 0.22818628, 0.17450981],\n",
       "          ...,\n",
       "          [0.904902  , 0.8421569 , 0.7441176 ],\n",
       "          [0.87083334, 0.80808824, 0.70612746],\n",
       "          [0.81960785, 0.75686276, 0.654902  ]],\n",
       " \n",
       "         [[0.28284314, 0.22181372, 0.13186274],\n",
       "          [0.2870098 , 0.2247549 , 0.14852941],\n",
       "          [0.30245098, 0.24191177, 0.17843138],\n",
       "          ...,\n",
       "          [0.9078431 , 0.845098  , 0.7470588 ],\n",
       "          [0.8786765 , 0.8159314 , 0.7139706 ],\n",
       "          [0.8213235 , 0.7585784 , 0.65661764]],\n",
       " \n",
       "         [[0.77230394, 0.6879902 , 0.59460783],\n",
       "          [0.53039217, 0.45318627, 0.3612745 ],\n",
       "          [0.30171567, 0.23063725, 0.15490197],\n",
       "          ...,\n",
       "          [0.9107843 , 0.8480392 , 0.7470588 ],\n",
       "          [0.8762255 , 0.8134804 , 0.7115196 ],\n",
       "          [0.8281863 , 0.7654412 , 0.6634804 ]]],\n",
       " \n",
       " \n",
       "        ...,\n",
       " \n",
       " \n",
       "        [[[0.19509804, 0.19901961, 0.17352942],\n",
       "          [0.17230392, 0.18210784, 0.15367647],\n",
       "          [0.16078432, 0.17254902, 0.14313726],\n",
       "          ...,\n",
       "          [0.17941177, 0.18333334, 0.15980393],\n",
       "          [0.18946078, 0.19338235, 0.16985294],\n",
       "          [0.19705883, 0.2009804 , 0.17965686]],\n",
       " \n",
       "         [[0.19583334, 0.19975491, 0.16838235],\n",
       "          [0.19803922, 0.20196079, 0.17058824],\n",
       "          [0.21495098, 0.21691176, 0.17671569],\n",
       "          ...,\n",
       "          [0.18651961, 0.19044118, 0.16691177],\n",
       "          [0.19534314, 0.1992647 , 0.1757353 ],\n",
       "          [0.20588236, 0.20392157, 0.18333334]],\n",
       " \n",
       "         [[0.21372549, 0.21372549, 0.16666667],\n",
       "          [0.23014706, 0.22230393, 0.17524509],\n",
       "          [0.23529412, 0.22745098, 0.18039216],\n",
       "          ...,\n",
       "          [0.19705883, 0.2009804 , 0.16960785],\n",
       "          [0.20588236, 0.20588236, 0.17450981],\n",
       "          [0.20808823, 0.20808823, 0.17671569]],\n",
       " \n",
       "         ...,\n",
       " \n",
       "         [[0.32990196, 0.33431372, 0.30612746],\n",
       "          [0.3740196 , 0.3781863 , 0.34338236],\n",
       "          [0.28161764, 0.2857843 , 0.2512255 ],\n",
       "          ...,\n",
       "          [0.29387254, 0.29215688, 0.2870098 ],\n",
       "          [0.26764706, 0.27254903, 0.24215686],\n",
       "          [0.23529412, 0.23946078, 0.21176471]],\n",
       " \n",
       "         [[0.6230392 , 0.6218137 , 0.59117645],\n",
       "          [0.60882354, 0.58406866, 0.5264706 ],\n",
       "          [0.5862745 , 0.54338235, 0.49387255],\n",
       "          ...,\n",
       "          [0.20833333, 0.23235294, 0.2529412 ],\n",
       "          [0.27009803, 0.2747549 , 0.28921568],\n",
       "          [0.28382352, 0.27058825, 0.2723039 ]],\n",
       " \n",
       "         [[0.5093137 , 0.5115196 , 0.4884804 ],\n",
       "          [0.5257353 , 0.5397059 , 0.50171566],\n",
       "          [0.49926472, 0.5002451 , 0.49534315],\n",
       "          ...,\n",
       "          [0.3252451 , 0.35808823, 0.3764706 ],\n",
       "          [0.35808823, 0.3875    , 0.39632353],\n",
       "          [0.2617647 , 0.27254903, 0.25392157]]],\n",
       " \n",
       " \n",
       "        [[[0.6625    , 0.5588235 , 0.2497549 ],\n",
       "          [0.5977941 , 0.4742647 , 0.1732843 ],\n",
       "          [0.55735296, 0.42328432, 0.15686275],\n",
       "          ...,\n",
       "          [0.49803922, 0.5411765 , 0.4745098 ],\n",
       "          [0.43112746, 0.48210785, 0.41151962],\n",
       "          [0.35882354, 0.41127452, 0.33995098]],\n",
       " \n",
       "         [[0.5683824 , 0.4389706 , 0.23186274],\n",
       "          [0.42843136, 0.3004902 , 0.10857843],\n",
       "          [0.41470587, 0.2887255 , 0.10906862],\n",
       "          ...,\n",
       "          [0.3779412 , 0.42107844, 0.35441175],\n",
       "          [0.3230392 , 0.3740196 , 0.29558823],\n",
       "          [0.27254903, 0.33137256, 0.24901961]],\n",
       " \n",
       "         [[0.4759804 , 0.37303922, 0.09411765],\n",
       "          [0.42009804, 0.31985295, 0.11838235],\n",
       "          [0.35465688, 0.2629902 , 0.07034314],\n",
       "          ...,\n",
       "          [0.26960784, 0.3127451 , 0.24607843],\n",
       "          [0.28627452, 0.3372549 , 0.26666668],\n",
       "          [0.26936275, 0.3262255 , 0.24485295]],\n",
       " \n",
       "         ...,\n",
       " \n",
       "         [[0.45857844, 0.5977941 , 0.4497549 ],\n",
       "          [0.42794117, 0.5495098 , 0.41617647],\n",
       "          [0.39019608, 0.5323529 , 0.40098038],\n",
       "          ...,\n",
       "          [0.09313726, 0.14803922, 0.09705883],\n",
       "          [0.08921569, 0.15196079, 0.10098039],\n",
       "          [0.10318627, 0.17181373, 0.11789215]],\n",
       " \n",
       "         [[0.3345588 , 0.4865196 , 0.3247549 ],\n",
       "          [0.43529412, 0.5806373 , 0.41985294],\n",
       "          [0.39313725, 0.54607844, 0.4007353 ],\n",
       "          ...,\n",
       "          [0.09313726, 0.14019608, 0.08529412],\n",
       "          [0.09509804, 0.15      , 0.09117647],\n",
       "          [0.10416666, 0.17083333, 0.10808823]],\n",
       " \n",
       "         [[0.29191175, 0.4745098 , 0.29411766],\n",
       "          [0.327451  , 0.49411765, 0.32058823],\n",
       "          [0.4004902 , 0.5681372 , 0.40245098],\n",
       "          ...,\n",
       "          [0.0870098 , 0.13406862, 0.07916667],\n",
       "          [0.09436274, 0.14926471, 0.09044117],\n",
       "          [0.09828431, 0.16789216, 0.10514706]]],\n",
       " \n",
       " \n",
       "        [[[0.12205882, 0.20955883, 0.08480392],\n",
       "          [0.11176471, 0.20294118, 0.08627451],\n",
       "          [0.10269608, 0.19289216, 0.08210784],\n",
       "          ...,\n",
       "          [0.17671569, 0.16887255, 0.11004902],\n",
       "          [0.16593137, 0.16985294, 0.10514706],\n",
       "          [0.16323529, 0.17156863, 0.09877451]],\n",
       " \n",
       "         [[0.12622549, 0.22230393, 0.08799019],\n",
       "          [0.11544117, 0.2134804 , 0.08799019],\n",
       "          [0.12034313, 0.21838236, 0.10073529],\n",
       "          ...,\n",
       "          [0.15882353, 0.1509804 , 0.09215686],\n",
       "          [0.14534314, 0.14926471, 0.07867647],\n",
       "          [0.14681372, 0.15073529, 0.08014706]],\n",
       " \n",
       "         [[0.11470588, 0.2245098 , 0.0754902 ],\n",
       "          [0.11593137, 0.22573529, 0.07671569],\n",
       "          [0.12230392, 0.22818628, 0.09093137],\n",
       "          ...,\n",
       "          [0.15514706, 0.14730392, 0.08848039],\n",
       "          [0.14411765, 0.14803922, 0.07745098],\n",
       "          [0.14681372, 0.15073529, 0.08014706]],\n",
       " \n",
       "         ...,\n",
       " \n",
       "         [[0.45514706, 0.20269608, 0.09485294],\n",
       "          [0.85490197, 0.6764706 , 0.5737745 ],\n",
       "          [0.8132353 , 0.69215685, 0.6458333 ],\n",
       "          ...,\n",
       "          [0.49019608, 0.60563725, 0.3259804 ],\n",
       "          [0.5036765 , 0.6125    , 0.34240195],\n",
       "          [0.5495098 , 0.6495098 , 0.39215687]],\n",
       " \n",
       "         [[0.7507353 , 0.55710787, 0.50735295],\n",
       "          [0.71838236, 0.525     , 0.41862744],\n",
       "          [0.9387255 , 0.7627451 , 0.6507353 ],\n",
       "          ...,\n",
       "          [0.6017157 , 0.6340686 , 0.39240196],\n",
       "          [0.59093136, 0.6389706 , 0.39681372],\n",
       "          [0.61740196, 0.67058825, 0.4247549 ]],\n",
       " \n",
       "         [[0.66544116, 0.48308823, 0.45808825],\n",
       "          [0.660049  , 0.47132352, 0.3625    ],\n",
       "          [0.90882355, 0.69730395, 0.5492647 ],\n",
       "          ...,\n",
       "          [0.93602943, 0.8232843 , 0.6855392 ],\n",
       "          [0.96593136, 0.8514706 , 0.7117647 ],\n",
       "          [0.9629902 , 0.83406866, 0.7004902 ]]]], dtype=float32),\n",
       " array([24, 33, 68, 69, 42, 18,  0,  9, 73, 26, 41, 63, 71,  5,  7, 13, 22,\n",
       "        22, 40, 59, 12, 25, 20, 23, 63, 68, 30, 43, 17, 13, 42, 56, 12, 35,\n",
       "         4, 23, 65,  6, 26, 12, 19, 11,  6, 46, 61, 27, 51, 64, 18, 12, 56,\n",
       "        36, 58, 55, 48, 42, 35, 15, 49, 33,  5, 23, 35,  2, 16, 13, 26, 16,\n",
       "        45, 57, 19, 55,  0, 11,  7, 16, 21, 71, 72, 63, 64, 30, 72, 61, 53,\n",
       "         0, 30, 62, 43, 31, 22, 73, 34, 46, 62,  3, 27, 57, 52, 68]))"
      ]
     },
     "execution_count": 470,
     "metadata": {},
     "output_type": "execute_result"
    }
   ],
   "source": [
    "train_ds.as_numpy_iterator().next()"
   ]
  },
  {
   "cell_type": "code",
   "execution_count": 471,
   "metadata": {},
   "outputs": [
    {
     "data": {
      "text/plain": [
       "65"
      ]
     },
     "execution_count": 471,
     "metadata": {},
     "output_type": "execute_result"
    }
   ],
   "source": [
    "len(train_ds)"
   ]
  },
  {
   "cell_type": "markdown",
   "metadata": {},
   "source": [
    "#### Data Augmentation"
   ]
  },
  {
   "cell_type": "code",
   "execution_count": 472,
   "metadata": {},
   "outputs": [],
   "source": [
    "data_augmentation = tf.keras.Sequential([\n",
    "    tf.keras.layers.experimental.preprocessing.RandomFlip(\"horizontal\"),\n",
    "    tf.keras.layers.experimental.preprocessing.RandomRotation(0.3),\n",
    "    tf.keras.layers.experimental.preprocessing.RandomZoom(.3)\n",
    "])"
   ]
  },
  {
   "cell_type": "code",
   "execution_count": 473,
   "metadata": {},
   "outputs": [
    {
     "name": "stdout",
     "output_type": "stream",
     "text": [
      "WARNING:tensorflow:Using a while_loop for converting RngReadAndSkip cause there is no registered converter for this op.\n",
      "WARNING:tensorflow:Using a while_loop for converting Bitcast cause there is no registered converter for this op.\n",
      "WARNING:tensorflow:Using a while_loop for converting Bitcast cause there is no registered converter for this op.\n",
      "WARNING:tensorflow:Using a while_loop for converting StatelessRandomUniformV2 cause there is no registered converter for this op.\n",
      "WARNING:tensorflow:Using a while_loop for converting ImageProjectiveTransformV3 cause there is no registered converter for this op.\n",
      "WARNING:tensorflow:Using a while_loop for converting RngReadAndSkip cause there is no registered converter for this op.\n",
      "WARNING:tensorflow:Using a while_loop for converting Bitcast cause there is no registered converter for this op.\n",
      "WARNING:tensorflow:Using a while_loop for converting Bitcast cause there is no registered converter for this op.\n",
      "WARNING:tensorflow:Using a while_loop for converting StatelessRandomUniformV2 cause there is no registered converter for this op.\n",
      "WARNING:tensorflow:Using a while_loop for converting ImageProjectiveTransformV3 cause there is no registered converter for this op.\n",
      "WARNING:tensorflow:Using a while_loop for converting RngReadAndSkip cause there is no registered converter for this op.\n",
      "WARNING:tensorflow:Using a while_loop for converting Bitcast cause there is no registered converter for this op.\n",
      "WARNING:tensorflow:Using a while_loop for converting Bitcast cause there is no registered converter for this op.\n",
      "WARNING:tensorflow:Using a while_loop for converting StatelessRandomUniformV2 cause there is no registered converter for this op.\n",
      "WARNING:tensorflow:Using a while_loop for converting ImageProjectiveTransformV3 cause there is no registered converter for this op.\n",
      "WARNING:tensorflow:Using a while_loop for converting RngReadAndSkip cause there is no registered converter for this op.\n",
      "WARNING:tensorflow:Using a while_loop for converting Bitcast cause there is no registered converter for this op.\n",
      "WARNING:tensorflow:Using a while_loop for converting Bitcast cause there is no registered converter for this op.\n",
      "WARNING:tensorflow:Using a while_loop for converting StatelessRandomUniformV2 cause there is no registered converter for this op.\n",
      "WARNING:tensorflow:Using a while_loop for converting ImageProjectiveTransformV3 cause there is no registered converter for this op.\n"
     ]
    }
   ],
   "source": [
    "train = train.map(lambda x, y: (data_augmentation(x, training=True), y))"
   ]
  },
  {
   "cell_type": "markdown",
   "metadata": {},
   "source": [
    "#### Spliting data"
   ]
  },
  {
   "cell_type": "code",
   "execution_count": 474,
   "metadata": {},
   "outputs": [
    {
     "name": "stdout",
     "output_type": "stream",
     "text": [
      "46\n",
      "19\n"
     ]
    }
   ],
   "source": [
    "train_size = int(len(train_ds)*.7)+1\n",
    "print(train_size)\n",
    "val_size = int(len(train_ds)*.3)\n",
    "print(val_size)"
   ]
  },
  {
   "cell_type": "code",
   "execution_count": 475,
   "metadata": {},
   "outputs": [],
   "source": [
    "train = train_ds.take(train_size)\n",
    "val = train_ds.skip(train_size).take(val_size)"
   ]
  },
  {
   "cell_type": "code",
   "execution_count": 476,
   "metadata": {},
   "outputs": [
    {
     "data": {
      "text/plain": [
       "46"
      ]
     },
     "execution_count": 476,
     "metadata": {},
     "output_type": "execute_result"
    }
   ],
   "source": [
    "len(train)"
   ]
  },
  {
   "cell_type": "code",
   "execution_count": 477,
   "metadata": {},
   "outputs": [
    {
     "data": {
      "text/plain": [
       "19"
      ]
     },
     "execution_count": 477,
     "metadata": {},
     "output_type": "execute_result"
    }
   ],
   "source": [
    "len(val)"
   ]
  },
  {
   "cell_type": "markdown",
   "metadata": {},
   "source": [
    "### Building CNN"
   ]
  },
  {
   "cell_type": "code",
   "execution_count": 478,
   "metadata": {},
   "outputs": [],
   "source": [
    "cnn = tf.keras.models.Sequential()"
   ]
  },
  {
   "cell_type": "code",
   "execution_count": 479,
   "metadata": {},
   "outputs": [],
   "source": [
    "cnn.add(tf.keras.layers.Conv2D(filters=32,kernel_size=3,activation='relu',input_shape=[64,64,3]))\n",
    "cnn.add(tf.keras.layers.MaxPooling2D(pool_size=(2,2)))\n",
    "cnn.add(tf.keras.layers.Dropout(0.2))\n",
    "cnn.add(tf.keras.layers.Conv2D(filters=64,kernel_size=3, activation='relu'))\n",
    "cnn.add(tf.keras.layers.MaxPooling2D(pool_size=(2,2)))\n",
    "cnn.add(tf.keras.layers.Dropout(0.3))   \n",
    "cnn.add(tf.keras.layers.Conv2D(filters=128,kernel_size=3, activation='relu'))\n",
    "cnn.add(tf.keras.layers.MaxPooling2D(pool_size=(2,2)))\n",
    "cnn.add(tf.keras.layers.Dropout(0.4))   \n",
    "cnn.add(tf.keras.layers.Flatten())\n",
    "cnn.add(tf.keras.layers.Dropout(0.5))   \n",
    "# cnn.add(tf.keras.layers.Dense(units=200,activation='relu'))\n",
    "cnn.add(tf.keras.layers.Dense(units=150,activation='relu'))\n",
    "cnn.add(tf.keras.layers.Dense(units=100,activation='relu'))\n",
    "# cnn.add(tf.keras.layers.Dropout(0.5))\n",
    "cnn.add(tf.keras.layers.Dense(units=75,activation='softmax'))\n"
   ]
  },
  {
   "cell_type": "code",
   "execution_count": 480,
   "metadata": {},
   "outputs": [],
   "source": [
    "cnn.compile(optimizer='adam',loss=\"sparse_categorical_crossentropy\",metrics=['accuracy'])    "
   ]
  },
  {
   "cell_type": "markdown",
   "metadata": {},
   "source": [
    "#### Early Stopping"
   ]
  },
  {
   "cell_type": "code",
   "execution_count": 481,
   "metadata": {},
   "outputs": [],
   "source": [
    "# Early Stopping\n",
    "early_stopping = tf.keras.callbacks.EarlyStopping(monitor='val_loss', patience=3)"
   ]
  },
  {
   "cell_type": "code",
   "execution_count": 482,
   "metadata": {},
   "outputs": [
    {
     "name": "stdout",
     "output_type": "stream",
     "text": [
      "Epoch 1/35\n"
     ]
    },
    {
     "name": "stdout",
     "output_type": "stream",
     "text": [
      "46/46 [==============================] - 5s 77ms/step - loss: 4.3098 - accuracy: 0.0196 - val_loss: 4.2586 - val_accuracy: 0.0263\n",
      "Epoch 2/35\n",
      "46/46 [==============================] - 4s 77ms/step - loss: 4.0121 - accuracy: 0.0528 - val_loss: 3.7488 - val_accuracy: 0.0843\n",
      "Epoch 3/35\n",
      "46/46 [==============================] - 4s 78ms/step - loss: 3.4108 - accuracy: 0.1402 - val_loss: 3.0767 - val_accuracy: 0.2159\n",
      "Epoch 4/35\n",
      "46/46 [==============================] - 4s 79ms/step - loss: 2.9136 - accuracy: 0.2304 - val_loss: 2.7499 - val_accuracy: 0.2833\n",
      "Epoch 5/35\n",
      "46/46 [==============================] - 4s 80ms/step - loss: 2.5904 - accuracy: 0.3020 - val_loss: 2.5082 - val_accuracy: 0.3386\n",
      "Epoch 6/35\n",
      "46/46 [==============================] - 4s 77ms/step - loss: 2.3203 - accuracy: 0.3630 - val_loss: 2.2382 - val_accuracy: 0.4002\n",
      "Epoch 7/35\n",
      "46/46 [==============================] - 4s 78ms/step - loss: 2.1227 - accuracy: 0.4089 - val_loss: 2.1061 - val_accuracy: 0.4381\n",
      "Epoch 8/35\n",
      "46/46 [==============================] - 4s 77ms/step - loss: 1.9456 - accuracy: 0.4398 - val_loss: 2.0159 - val_accuracy: 0.4566\n",
      "Epoch 9/35\n",
      "46/46 [==============================] - 4s 82ms/step - loss: 1.8285 - accuracy: 0.4867 - val_loss: 1.8193 - val_accuracy: 0.5003\n",
      "Epoch 10/35\n",
      "46/46 [==============================] - 4s 80ms/step - loss: 1.6867 - accuracy: 0.5139 - val_loss: 1.7407 - val_accuracy: 0.5287\n",
      "Epoch 11/35\n",
      "46/46 [==============================] - 4s 78ms/step - loss: 1.5935 - accuracy: 0.5357 - val_loss: 1.6861 - val_accuracy: 0.5424\n",
      "Epoch 12/35\n",
      "46/46 [==============================] - 4s 81ms/step - loss: 1.5067 - accuracy: 0.5672 - val_loss: 1.5445 - val_accuracy: 0.5724\n",
      "Epoch 13/35\n",
      "46/46 [==============================] - 4s 82ms/step - loss: 1.4096 - accuracy: 0.5902 - val_loss: 1.5228 - val_accuracy: 0.5782\n",
      "Epoch 14/35\n",
      "46/46 [==============================] - 4s 79ms/step - loss: 1.3440 - accuracy: 0.6017 - val_loss: 1.4763 - val_accuracy: 0.5993\n",
      "Epoch 15/35\n",
      "46/46 [==============================] - 4s 82ms/step - loss: 1.2533 - accuracy: 0.6270 - val_loss: 1.4288 - val_accuracy: 0.6051\n",
      "Epoch 16/35\n",
      "46/46 [==============================] - 4s 81ms/step - loss: 1.2180 - accuracy: 0.6313 - val_loss: 1.3750 - val_accuracy: 0.6240\n",
      "Epoch 17/35\n",
      "46/46 [==============================] - 4s 81ms/step - loss: 1.1114 - accuracy: 0.6637 - val_loss: 1.3204 - val_accuracy: 0.6388\n",
      "Epoch 18/35\n",
      "46/46 [==============================] - 4s 81ms/step - loss: 1.1013 - accuracy: 0.6698 - val_loss: 1.2930 - val_accuracy: 0.6377\n",
      "Epoch 19/35\n",
      "46/46 [==============================] - 4s 78ms/step - loss: 1.0301 - accuracy: 0.6880 - val_loss: 1.3570 - val_accuracy: 0.6024\n",
      "Epoch 20/35\n",
      "46/46 [==============================] - 4s 79ms/step - loss: 0.9628 - accuracy: 0.6978 - val_loss: 1.2622 - val_accuracy: 0.6514\n",
      "Epoch 21/35\n",
      "46/46 [==============================] - 4s 78ms/step - loss: 0.9164 - accuracy: 0.7146 - val_loss: 1.2165 - val_accuracy: 0.6488\n",
      "Epoch 22/35\n",
      "46/46 [==============================] - 4s 77ms/step - loss: 0.8812 - accuracy: 0.7272 - val_loss: 1.2294 - val_accuracy: 0.6498\n",
      "Epoch 23/35\n",
      "46/46 [==============================] - 4s 82ms/step - loss: 0.8384 - accuracy: 0.7413 - val_loss: 1.1806 - val_accuracy: 0.6740\n",
      "Epoch 24/35\n",
      "46/46 [==============================] - 4s 82ms/step - loss: 0.8231 - accuracy: 0.7374 - val_loss: 1.1988 - val_accuracy: 0.6814\n",
      "Epoch 25/35\n",
      "46/46 [==============================] - 4s 78ms/step - loss: 0.7728 - accuracy: 0.7617 - val_loss: 1.1739 - val_accuracy: 0.6830\n",
      "Epoch 26/35\n",
      "46/46 [==============================] - 4s 77ms/step - loss: 0.7432 - accuracy: 0.7691 - val_loss: 1.1244 - val_accuracy: 0.6998\n",
      "Epoch 27/35\n",
      "46/46 [==============================] - 4s 81ms/step - loss: 0.6885 - accuracy: 0.7876 - val_loss: 1.1268 - val_accuracy: 0.7056\n",
      "Epoch 28/35\n",
      "46/46 [==============================] - 4s 77ms/step - loss: 0.6799 - accuracy: 0.7813 - val_loss: 1.1509 - val_accuracy: 0.6919\n",
      "Epoch 29/35\n",
      "46/46 [==============================] - 4s 79ms/step - loss: 0.6417 - accuracy: 0.7980 - val_loss: 1.1165 - val_accuracy: 0.7088\n",
      "Epoch 30/35\n",
      "46/46 [==============================] - 4s 81ms/step - loss: 0.6110 - accuracy: 0.7996 - val_loss: 1.1015 - val_accuracy: 0.7135\n",
      "Epoch 31/35\n",
      "46/46 [==============================] - 4s 83ms/step - loss: 0.6103 - accuracy: 0.8046 - val_loss: 1.1729 - val_accuracy: 0.6993\n",
      "Epoch 32/35\n",
      "46/46 [==============================] - 4s 77ms/step - loss: 0.5780 - accuracy: 0.8159 - val_loss: 1.1407 - val_accuracy: 0.6983\n",
      "Epoch 33/35\n",
      "46/46 [==============================] - 4s 82ms/step - loss: 0.5268 - accuracy: 0.8315 - val_loss: 1.1084 - val_accuracy: 0.7225\n"
     ]
    }
   ],
   "source": [
    "hist = cnn.fit(x=train,validation_data=val,epochs=35,callbacks=[early_stopping])"
   ]
  },
  {
   "cell_type": "code",
   "execution_count": 483,
   "metadata": {},
   "outputs": [
    {
     "name": "stdout",
     "output_type": "stream",
     "text": [
      "Model: \"sequential_46\"\n",
      "_________________________________________________________________\n",
      " Layer (type)                Output Shape              Param #   \n",
      "=================================================================\n",
      " conv2d_74 (Conv2D)          (None, 62, 62, 32)        896       \n",
      "                                                                 \n",
      " max_pooling2d_74 (MaxPoolin  (None, 31, 31, 32)       0         \n",
      " g2D)                                                            \n",
      "                                                                 \n",
      " dropout_70 (Dropout)        (None, 31, 31, 32)        0         \n",
      "                                                                 \n",
      " conv2d_75 (Conv2D)          (None, 29, 29, 64)        18496     \n",
      "                                                                 \n",
      " max_pooling2d_75 (MaxPoolin  (None, 14, 14, 64)       0         \n",
      " g2D)                                                            \n",
      "                                                                 \n",
      " dropout_71 (Dropout)        (None, 14, 14, 64)        0         \n",
      "                                                                 \n",
      " conv2d_76 (Conv2D)          (None, 12, 12, 128)       73856     \n",
      "                                                                 \n",
      " max_pooling2d_76 (MaxPoolin  (None, 6, 6, 128)        0         \n",
      " g2D)                                                            \n",
      "                                                                 \n",
      " dropout_72 (Dropout)        (None, 6, 6, 128)         0         \n",
      "                                                                 \n",
      " flatten_25 (Flatten)        (None, 4608)              0         \n",
      "                                                                 \n",
      " dropout_73 (Dropout)        (None, 4608)              0         \n",
      "                                                                 \n",
      " dense_66 (Dense)            (None, 150)               691350    \n",
      "                                                                 \n",
      " dense_67 (Dense)            (None, 100)               15100     \n",
      "                                                                 \n",
      " dense_68 (Dense)            (None, 75)                7575      \n",
      "                                                                 \n",
      "=================================================================\n",
      "Total params: 807,273\n",
      "Trainable params: 807,273\n",
      "Non-trainable params: 0\n",
      "_________________________________________________________________\n"
     ]
    }
   ],
   "source": [
    "cnn.summary()"
   ]
  },
  {
   "cell_type": "code",
   "execution_count": 484,
   "metadata": {},
   "outputs": [
    {
     "data": {
      "image/png": "[encoded data removed]",
      "text/plain": [
       "<Figure size 640x480 with 1 Axes>"
      ]
     },
     "metadata": {},
     "output_type": "display_data"
    }
   ],
   "source": [
    "\n",
    "plt.plot(hist.history['loss'],color='teal',label='loss')\n",
    "plt.plot(hist.history['val_loss'],color='orange',label='loss')\n",
    "plt.legend(loc='upper left')\n",
    "plt.show()\n"
   ]
  },
  {
   "cell_type": "code",
   "execution_count": 485,
   "metadata": {},
   "outputs": [
    {
     "data": {
      "image/png": "[encoded data removed]",
      "text/plain": [
       "<Figure size 640x480 with 1 Axes>"
      ]
     },
     "metadata": {},
     "output_type": "display_data"
    }
   ],
   "source": [
    "plt.plot(hist.history['accuracy'],color='teal',label='accuracy')\n",
    "plt.plot(hist.history['val_accuracy'],color='orange',label='accuracy')\n",
    "plt.legend(loc='upper left')\n",
    "plt.show()\n"
   ]
  }
 ],
 "metadata": {
  "kernelspec": {
   "display_name": "Python 3",
   "language": "python",
   "name": "python3"
  },
  "language_info": {
   "codemirror_mode": {
    "name": "ipython",
    "version": 3
   },
   "file_extension": ".py",
   "mimetype": "text/x-python",
   "name": "python",
   "nbconvert_exporter": "python",
   "pygments_lexer": "ipython3",
   "version": "3.9.17"
  },
  "orig_nbformat": 4
 },
 "nbformat": 4,
 "nbformat_minor": 2
}
